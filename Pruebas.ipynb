{
 "cells": [
  {
   "cell_type": "code",
   "execution_count": 48,
   "id": "9cd0747e",
   "metadata": {},
   "outputs": [
    {
     "name": "stdout",
     "output_type": "stream",
     "text": [
      "[0 8 0 7 2]\n",
      "[[9]]\n",
      "1\n",
      "2\n",
      "[[ 9 17  9 16 11]]\n"
     ]
    }
   ],
   "source": [
    "import numpy as np \n",
    "\n",
    "a = np.random.randint(0, 10, 5)\n",
    "b = np.random.randint(0, 10, (1,1))\n",
    "print(a)\n",
    "print(b)\n",
    "print(a.ndim)\n",
    "print(b.ndim)\n",
    "print(a+b)"
   ]
  },
  {
   "cell_type": "code",
   "execution_count": 53,
   "id": "36d41605",
   "metadata": {},
   "outputs": [
    {
     "name": "stdout",
     "output_type": "stream",
     "text": [
      "[[3]]\n",
      "[[[1 3 2]\n",
      "  [4 1 7]\n",
      "  [0 9 9]\n",
      "  [4 1 8]\n",
      "  [5 2 3]]\n",
      "\n",
      " [[6 3 3]\n",
      "  [0 5 3]\n",
      "  [0 7 0]\n",
      "  [6 7 6]\n",
      "  [5 3 0]]]\n",
      "3\n",
      "2\n",
      "[[[ 4  6  5]\n",
      "  [ 7  4 10]\n",
      "  [ 3 12 12]\n",
      "  [ 7  4 11]\n",
      "  [ 8  5  6]]\n",
      "\n",
      " [[ 9  6  6]\n",
      "  [ 3  8  6]\n",
      "  [ 3 10  3]\n",
      "  [ 9 10  9]\n",
      "  [ 8  6  3]]]\n"
     ]
    }
   ],
   "source": [
    "b = np.random.randint(0, 10, (1,1))\n",
    "c = np.random.randint(0, 10, (2, 5, 3))\n",
    "print(b)\n",
    "print(c)\n",
    "print(c.ndim)\n",
    "print(b.ndim)\n",
    "print(b+c)"
   ]
  },
  {
   "cell_type": "code",
   "execution_count": null,
   "id": "8962d8aa",
   "metadata": {},
   "outputs": [],
   "source": []
  }
 ],
 "metadata": {
  "kernelspec": {
   "display_name": "Python 3",
   "language": "python",
   "name": "python3"
  },
  "language_info": {
   "codemirror_mode": {
    "name": "ipython",
    "version": 3
   },
   "file_extension": ".py",
   "mimetype": "text/x-python",
   "name": "python",
   "nbconvert_exporter": "python",
   "pygments_lexer": "ipython3",
   "version": "3.8.8"
  }
 },
 "nbformat": 4,
 "nbformat_minor": 5
}
