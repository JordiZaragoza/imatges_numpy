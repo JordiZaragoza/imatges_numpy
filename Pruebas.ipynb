{
 "cells": [
  {
   "cell_type": "code",
   "execution_count": 58,
   "id": "9cd0747e",
   "metadata": {},
   "outputs": [
    {
     "name": "stdout",
     "output_type": "stream",
     "text": [
      "[0 6 3 1 5]\n",
      "[[5 2 2 4]\n",
      " [5 7 7 1]]\n",
      "1\n",
      "2\n"
     ]
    },
    {
     "ename": "ValueError",
     "evalue": "operands could not be broadcast together with shapes (5,) (2,4) ",
     "output_type": "error",
     "traceback": [
      "\u001b[1;31m---------------------------------------------------------------------------\u001b[0m",
      "\u001b[1;31mValueError\u001b[0m                                Traceback (most recent call last)",
      "\u001b[1;32m<ipython-input-58-03584e00790c>\u001b[0m in \u001b[0;36m<module>\u001b[1;34m\u001b[0m\n\u001b[0;32m      7\u001b[0m \u001b[0mprint\u001b[0m\u001b[1;33m(\u001b[0m\u001b[0ma\u001b[0m\u001b[1;33m.\u001b[0m\u001b[0mndim\u001b[0m\u001b[1;33m)\u001b[0m\u001b[1;33m\u001b[0m\u001b[1;33m\u001b[0m\u001b[0m\n\u001b[0;32m      8\u001b[0m \u001b[0mprint\u001b[0m\u001b[1;33m(\u001b[0m\u001b[0mb\u001b[0m\u001b[1;33m.\u001b[0m\u001b[0mndim\u001b[0m\u001b[1;33m)\u001b[0m\u001b[1;33m\u001b[0m\u001b[1;33m\u001b[0m\u001b[0m\n\u001b[1;32m----> 9\u001b[1;33m \u001b[0mprint\u001b[0m\u001b[1;33m(\u001b[0m\u001b[0ma\u001b[0m\u001b[1;33m+\u001b[0m\u001b[0mb\u001b[0m\u001b[1;33m)\u001b[0m\u001b[1;33m\u001b[0m\u001b[1;33m\u001b[0m\u001b[0m\n\u001b[0m",
      "\u001b[1;31mValueError\u001b[0m: operands could not be broadcast together with shapes (5,) (2,4) "
     ]
    }
   ],
   "source": [
    "import numpy as np \n",
    "\n",
    "a = np.random.randint(0, 10, 5)\n",
    "b = np.random.randint(0, 10, (2,4))\n",
    "print(a)\n",
    "print(b)\n",
    "print(a.ndim)\n",
    "print(b.ndim)\n",
    "print(a+b)"
   ]
  },
  {
   "cell_type": "code",
   "execution_count": 53,
   "id": "bccc5909",
   "metadata": {},
   "outputs": [
    {
     "name": "stdout",
     "output_type": "stream",
     "text": [
      "[[3]]\n",
      "[[[1 3 2]\n",
      "  [4 1 7]\n",
      "  [0 9 9]\n",
      "  [4 1 8]\n",
      "  [5 2 3]]\n",
      "\n",
      " [[6 3 3]\n",
      "  [0 5 3]\n",
      "  [0 7 0]\n",
      "  [6 7 6]\n",
      "  [5 3 0]]]\n",
      "3\n",
      "2\n",
      "[[[ 4  6  5]\n",
      "  [ 7  4 10]\n",
      "  [ 3 12 12]\n",
      "  [ 7  4 11]\n",
      "  [ 8  5  6]]\n",
      "\n",
      " [[ 9  6  6]\n",
      "  [ 3  8  6]\n",
      "  [ 3 10  3]\n",
      "  [ 9 10  9]\n",
      "  [ 8  6  3]]]\n"
     ]
    }
   ],
   "source": [
    "b = np.random.randint(0, 10, (1,1))\n",
    "c = np.random.randint(0, 10, (2, 5, 3))\n",
    "print(b)\n",
    "print(c)\n",
    "print(c.ndim)\n",
    "print(b.ndim)\n",
    "print(b+c)"
   ]
  },
  {
   "cell_type": "code",
   "execution_count": null,
   "id": "0c1d7988",
   "metadata": {},
   "outputs": [],
   "source": []
  }
 ],
 "metadata": {
  "kernelspec": {
   "display_name": "Python 3",
   "language": "python",
   "name": "python3"
  },
  "language_info": {
   "codemirror_mode": {
    "name": "ipython",
    "version": 3
   },
   "file_extension": ".py",
   "mimetype": "text/x-python",
   "name": "python",
   "nbconvert_exporter": "python",
   "pygments_lexer": "ipython3",
   "version": "3.8.8"
  }
 },
 "nbformat": 4,
 "nbformat_minor": 5
}
