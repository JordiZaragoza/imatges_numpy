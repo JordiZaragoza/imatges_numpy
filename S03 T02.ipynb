{
 "cells": [
  {
   "cell_type": "markdown",
   "id": "e1504984",
   "metadata": {},
   "source": [
    "# Ejercicio 1"
   ]
  },
  {
   "cell_type": "markdown",
   "id": "351583bd",
   "metadata": {},
   "source": [
    "### *Crea un np.array de una dimension, que incluya alomenos 8 numeros enteros, data type int64*"
   ]
  },
  {
   "cell_type": "code",
   "execution_count": 1,
   "id": "805420f1",
   "metadata": {},
   "outputs": [],
   "source": [
    "import numpy as np # importo libreria NumPy\n",
    "\n",
    "a = np.array([1,2,3,4,5,6,7,8], dtype = np.int64) # creo el array"
   ]
  },
  {
   "cell_type": "markdown",
   "id": "3600fd53",
   "metadata": {},
   "source": [
    "### *Muestra la dimension*"
   ]
  },
  {
   "cell_type": "code",
   "execution_count": 4,
   "id": "335433ab",
   "metadata": {},
   "outputs": [
    {
     "name": "stdout",
     "output_type": "stream",
     "text": [
      "1\n"
     ]
    }
   ],
   "source": [
    "print(a.ndim)"
   ]
  },
  {
   "cell_type": "markdown",
   "id": "505d4e52",
   "metadata": {},
   "source": [
    "### *Muestra la forma de la matriz*"
   ]
  },
  {
   "cell_type": "code",
   "execution_count": 3,
   "id": "c6edb29d",
   "metadata": {},
   "outputs": [
    {
     "name": "stdout",
     "output_type": "stream",
     "text": [
      "(8,)\n"
     ]
    }
   ],
   "source": [
    "print(a.shape)"
   ]
  },
  {
   "cell_type": "markdown",
   "id": "6eb390dc",
   "metadata": {},
   "source": [
    "# Ejercicio 2"
   ]
  },
  {
   "cell_type": "markdown",
   "id": "41581ab2",
   "metadata": {},
   "source": [
    "### *De la matriz del ejercicio 1, calcula el valor medio de los valores introducidos y resta la mediana resultante de cada unos de los valores de la matriz*"
   ]
  },
  {
   "cell_type": "code",
   "execution_count": 8,
   "id": "b10de72e",
   "metadata": {},
   "outputs": [
    {
     "name": "stdout",
     "output_type": "stream",
     "text": [
      "4.5\n"
     ]
    }
   ],
   "source": [
    "print(a.mean()) # valor medio"
   ]
  },
  {
   "cell_type": "code",
   "execution_count": 10,
   "id": "1e3f643f",
   "metadata": {},
   "outputs": [
    {
     "name": "stdout",
     "output_type": "stream",
     "text": [
      "[-3.5 -2.5 -1.5 -0.5  0.5  1.5  2.5  3.5]\n"
     ]
    }
   ],
   "source": [
    "print(a - a.mean()) # resta "
   ]
  },
  {
   "cell_type": "markdown",
   "id": "5701db97",
   "metadata": {},
   "source": [
    "# Ejercicio 3"
   ]
  },
  {
   "cell_type": "markdown",
   "id": "3d058d3c",
   "metadata": {},
   "source": [
    "### *Crea una matriz bidimensaional con una forma de 5 x 5. Extrae el valor maximo de la matriz, y los valores maximos de cada unos de sus ejes*"
   ]
  },
  {
   "cell_type": "code",
   "execution_count": 17,
   "id": "5210a955",
   "metadata": {},
   "outputs": [
    {
     "name": "stdout",
     "output_type": "stream",
     "text": [
      "[[6 5 8 8 1]\n",
      " [9 0 1 3 1]\n",
      " [2 8 4 6 0]\n",
      " [6 1 3 2 4]\n",
      " [6 1 0 2 5]]\n"
     ]
    }
   ],
   "source": [
    "import numpy as np # importo libreria NumPy\n",
    "\n",
    "b = np.random.randint(0, 10, (5,5)) # creo el array con numeros enteros aleatorios\n",
    "print(b)"
   ]
  },
  {
   "cell_type": "code",
   "execution_count": 18,
   "id": "657b0d31",
   "metadata": {},
   "outputs": [
    {
     "name": "stdout",
     "output_type": "stream",
     "text": [
      "9\n"
     ]
    }
   ],
   "source": [
    "print(b.max()) # valor maximo de la matriz"
   ]
  },
  {
   "cell_type": "code",
   "execution_count": 19,
   "id": "ff855101",
   "metadata": {},
   "outputs": [
    {
     "name": "stdout",
     "output_type": "stream",
     "text": [
      "[9 8 8 8 5]\n",
      "[8 9 8 6 6]\n"
     ]
    }
   ],
   "source": [
    "print(b.max(axis=0)) # valores maximos de cada eje\n",
    "print(b.max(axis=1))"
   ]
  },
  {
   "cell_type": "markdown",
   "id": "ff01a576",
   "metadata": {},
   "source": [
    "# Ejercicio 4"
   ]
  },
  {
   "cell_type": "markdown",
   "id": "e605f28a",
   "metadata": {},
   "source": [
    "### *Mostrar con ejemplos de diferentes matrices, la regla fundamental de Broadcasting que dice: \"las matrices se pueden transmitir/brodcast si sus dimensiones coinciden o si una de las matrices tiene una medida de 1\"*"
   ]
  },
  {
   "cell_type": "code",
   "execution_count": 1,
   "id": "e2c9a98d",
   "metadata": {},
   "outputs": [
    {
     "name": "stdout",
     "output_type": "stream",
     "text": [
      "[4 0 7 8 8]\n",
      "[0 5 5 1 2]\n",
      "[ 4  5 12  9 10]\n"
     ]
    }
   ],
   "source": [
    "import numpy as np \n",
    "\n",
    "a = np.random.randint(0, 10, 5)\n",
    "b = np.random.randint(0, 10, 5)\n",
    "print(a)\n",
    "print(b)\n",
    "print(a+b)"
   ]
  },
  {
   "cell_type": "code",
   "execution_count": 2,
   "id": "e8b0dcf7",
   "metadata": {},
   "outputs": [
    {
     "name": "stdout",
     "output_type": "stream",
     "text": [
      "[0 9 2 6 2]\n",
      "[8]\n",
      "[ 8 17 10 14 10]\n"
     ]
    }
   ],
   "source": [
    "a = np.random.randint(0, 10, 5)\n",
    "b = np.random.randint(0, 10, 1)\n",
    "print(a)\n",
    "print(b)\n",
    "print(a+b)"
   ]
  },
  {
   "cell_type": "code",
   "execution_count": 4,
   "id": "6148e68f",
   "metadata": {},
   "outputs": [
    {
     "name": "stdout",
     "output_type": "stream",
     "text": [
      "[4 5 7 0 6]\n",
      "[4 3]\n"
     ]
    },
    {
     "ename": "ValueError",
     "evalue": "operands could not be broadcast together with shapes (5,) (2,) ",
     "output_type": "error",
     "traceback": [
      "\u001b[0;31m---------------------------------------------------------------------------\u001b[0m",
      "\u001b[0;31mValueError\u001b[0m                                Traceback (most recent call last)",
      "\u001b[0;32m<ipython-input-4-ccadcf0f6d89>\u001b[0m in \u001b[0;36m<module>\u001b[0;34m\u001b[0m\n\u001b[1;32m      3\u001b[0m \u001b[0mprint\u001b[0m\u001b[0;34m(\u001b[0m\u001b[0ma\u001b[0m\u001b[0;34m)\u001b[0m\u001b[0;34m\u001b[0m\u001b[0;34m\u001b[0m\u001b[0m\n\u001b[1;32m      4\u001b[0m \u001b[0mprint\u001b[0m\u001b[0;34m(\u001b[0m\u001b[0mb\u001b[0m\u001b[0;34m)\u001b[0m\u001b[0;34m\u001b[0m\u001b[0;34m\u001b[0m\u001b[0m\n\u001b[0;32m----> 5\u001b[0;31m \u001b[0mprint\u001b[0m\u001b[0;34m(\u001b[0m\u001b[0ma\u001b[0m\u001b[0;34m+\u001b[0m\u001b[0mb\u001b[0m\u001b[0;34m)\u001b[0m\u001b[0;34m\u001b[0m\u001b[0;34m\u001b[0m\u001b[0m\n\u001b[0m",
      "\u001b[0;31mValueError\u001b[0m: operands could not be broadcast together with shapes (5,) (2,) "
     ]
    }
   ],
   "source": [
    "a = np.random.randint(0, 10, 5)\n",
    "b = np.random.randint(0, 10, 2)\n",
    "print(a)\n",
    "print(b)\n",
    "print(a+b)"
   ]
  },
  {
   "cell_type": "code",
   "execution_count": 5,
   "id": "a1f3fc6f",
   "metadata": {},
   "outputs": [
    {
     "name": "stdout",
     "output_type": "stream",
     "text": [
      "[[3 3 3]]\n",
      "[[[5 2 3]\n",
      "  [7 3 4]\n",
      "  [8 9 3]\n",
      "  [6 4 4]\n",
      "  [8 2 1]]]\n",
      "3\n",
      "2\n",
      "[[[ 8  5  6]\n",
      "  [10  6  7]\n",
      "  [11 12  6]\n",
      "  [ 9  7  7]\n",
      "  [11  5  4]]]\n"
     ]
    }
   ],
   "source": [
    "b = np.random.randint(0, 10, (1,3)) \n",
    "c = np.random.randint(0, 10, (1, 5, 3))\n",
    "print(b)\n",
    "print(c)\n",
    "print(c.ndim)\n",
    "print(b.ndim)\n",
    "print(b+c)"
   ]
  },
  {
   "cell_type": "markdown",
   "id": "aadb7920",
   "metadata": {},
   "source": [
    "# Ejercicio 5"
   ]
  },
  {
   "cell_type": "markdown",
   "id": "8adc7e47",
   "metadata": {},
   "source": [
    "### *Utiliza la indexación para extraer los valores de una columa y una fila de la matriz. I suma sus valores*"
   ]
  },
  {
   "cell_type": "code",
   "execution_count": 2,
   "id": "bb9adfab",
   "metadata": {},
   "outputs": [
    {
     "name": "stdout",
     "output_type": "stream",
     "text": [
      "[[1 6 9 4 3]\n",
      " [5 2 3 7 3]\n",
      " [3 9 4 1 9]\n",
      " [2 7 5 0 8]\n",
      " [6 5 6 1 6]]\n",
      "[3 9 4 1 9]\n",
      "[4 7 1 0 1]\n",
      "[ 7 16  5  1 10]\n"
     ]
    }
   ],
   "source": [
    "import pandas as pd\n",
    "import numpy as np\n",
    "\n",
    "b = np.random.randint(0, 10, (5,5)) # creo una matriz bidimensional con numeros aleatorios del 0 al 10\n",
    "print(b) # matriz\n",
    "print(b[2,:]) # fila\n",
    "print(b[:,3]) # columna\n",
    "print((b[2,:]) + (b[:,3])) # suma de los valores   "
   ]
  },
  {
   "cell_type": "markdown",
   "id": "03768fa7",
   "metadata": {},
   "source": [
    "# Ejercicio 6"
   ]
  },
  {
   "cell_type": "markdown",
   "id": "d41373c7",
   "metadata": {},
   "source": [
    "### *Mask la matriz anterior, realiza un calculo booleano vectorizado, cogiendo cada elemento y comprovando si se divide uniformemente por 4.*\n",
    "\n",
    "### *Esto retorna una matriz de mask de la misma forma que con los resultados elementales del calculo.*"
   ]
  },
  {
   "cell_type": "code",
   "execution_count": 3,
   "id": "0211653b",
   "metadata": {},
   "outputs": [
    {
     "name": "stdout",
     "output_type": "stream",
     "text": [
      "[[1 6 9 4 3]\n",
      " [5 2 3 7 3]\n",
      " [3 9 4 1 9]\n",
      " [2 7 5 0 8]\n",
      " [6 5 6 1 6]]\n"
     ]
    }
   ],
   "source": [
    "print(b) # matriz anterior"
   ]
  },
  {
   "cell_type": "code",
   "execution_count": 4,
   "id": "5a1164c9",
   "metadata": {},
   "outputs": [
    {
     "name": "stdout",
     "output_type": "stream",
     "text": [
      "[[False False False  True False]\n",
      " [False False False False False]\n",
      " [False False  True False False]\n",
      " [False False False  True  True]\n",
      " [False False False False False]]\n"
     ]
    }
   ],
   "source": [
    "bMask = b%4 == 0 # se divide cada valor entre 4, y si el resto da 0 el resultado sera True\n",
    "print(bMask)"
   ]
  },
  {
   "cell_type": "markdown",
   "id": "5fa3988b",
   "metadata": {},
   "source": [
    "# Ejercicio 7"
   ]
  },
  {
   "cell_type": "markdown",
   "id": "fbedfab8",
   "metadata": {},
   "source": [
    "### *A continuacion, utilizar esa mascara para indexar a la matriz de numeros original. Eso hace que la matriz pierda su forma original, reduciendola a una dimension, pero aun se obtendran los datos que se buscan*"
   ]
  },
  {
   "cell_type": "code",
   "execution_count": 6,
   "id": "57976d17",
   "metadata": {},
   "outputs": [
    {
     "name": "stdout",
     "output_type": "stream",
     "text": [
      "[4 4 0 8]\n"
     ]
    }
   ],
   "source": [
    "print(b[bMask])"
   ]
  },
  {
   "cell_type": "code",
   "execution_count": null,
   "id": "6e1a2e90",
   "metadata": {},
   "outputs": [],
   "source": []
  }
 ],
 "metadata": {
  "kernelspec": {
   "display_name": "Python 3",
   "language": "python",
   "name": "python3"
  },
  "language_info": {
   "codemirror_mode": {
    "name": "ipython",
    "version": 3
   },
   "file_extension": ".py",
   "mimetype": "text/x-python",
   "name": "python",
   "nbconvert_exporter": "python",
   "pygments_lexer": "ipython3",
   "version": "3.8.8"
  }
 },
 "nbformat": 4,
 "nbformat_minor": 5
}
