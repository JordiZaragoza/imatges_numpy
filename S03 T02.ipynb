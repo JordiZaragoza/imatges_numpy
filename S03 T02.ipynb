{
 "cells": [
  {
   "cell_type": "markdown",
   "id": "e1504984",
   "metadata": {},
   "source": [
    "# Ejercicio 1"
   ]
  },
  {
   "cell_type": "markdown",
   "id": "351583bd",
   "metadata": {},
   "source": [
    "### *Crea un np.array de una dimension, que incluya alomenos 8 numeros enteros, data type int64*"
   ]
  },
  {
   "cell_type": "code",
   "execution_count": 1,
   "id": "805420f1",
   "metadata": {},
   "outputs": [],
   "source": [
    "import numpy as np # importo libreria NumPy\n",
    "\n",
    "a = np.array([1,2,3,4,5,6,7,8], dtype = np.int64) # creo el array"
   ]
  },
  {
   "cell_type": "markdown",
   "id": "3600fd53",
   "metadata": {},
   "source": [
    "### *Muestra la dimension*"
   ]
  },
  {
   "cell_type": "code",
   "execution_count": 4,
   "id": "335433ab",
   "metadata": {},
   "outputs": [
    {
     "name": "stdout",
     "output_type": "stream",
     "text": [
      "1\n"
     ]
    }
   ],
   "source": [
    "print(a.ndim)"
   ]
  },
  {
   "cell_type": "markdown",
   "id": "505d4e52",
   "metadata": {},
   "source": [
    "### *Muestra la forma de la matriz*"
   ]
  },
  {
   "cell_type": "code",
   "execution_count": 3,
   "id": "c6edb29d",
   "metadata": {},
   "outputs": [
    {
     "name": "stdout",
     "output_type": "stream",
     "text": [
      "(8,)\n"
     ]
    }
   ],
   "source": [
    "print(a.shape)"
   ]
  },
  {
   "cell_type": "markdown",
   "id": "6eb390dc",
   "metadata": {},
   "source": [
    "# Ejercicio 2"
   ]
  },
  {
   "cell_type": "markdown",
   "id": "41581ab2",
   "metadata": {},
   "source": [
    "### *De la matriz del ejercicio 1, calcula el valor medio de los valores introducidos y resta la mediana resultante de cada unos de los valores de la matriz*"
   ]
  },
  {
   "cell_type": "code",
   "execution_count": 8,
   "id": "b10de72e",
   "metadata": {},
   "outputs": [
    {
     "name": "stdout",
     "output_type": "stream",
     "text": [
      "4.5\n"
     ]
    }
   ],
   "source": [
    "print(a.mean()) # valor medio"
   ]
  },
  {
   "cell_type": "code",
   "execution_count": 10,
   "id": "1e3f643f",
   "metadata": {},
   "outputs": [
    {
     "name": "stdout",
     "output_type": "stream",
     "text": [
      "[-3.5 -2.5 -1.5 -0.5  0.5  1.5  2.5  3.5]\n"
     ]
    }
   ],
   "source": [
    "print(a - a.mean()) # resta "
   ]
  },
  {
   "cell_type": "markdown",
   "id": "5701db97",
   "metadata": {},
   "source": [
    "# Ejercicio 3"
   ]
  },
  {
   "cell_type": "markdown",
   "id": "3d058d3c",
   "metadata": {},
   "source": [
    "### *Crea una matriz bidimensaional con una forma de 5 x 5. Extrae el valor maximo de la matriz, y los valores maximos de cada unos de sus ejes*"
   ]
  },
  {
   "cell_type": "code",
   "execution_count": 17,
   "id": "5210a955",
   "metadata": {},
   "outputs": [
    {
     "name": "stdout",
     "output_type": "stream",
     "text": [
      "[[6 5 8 8 1]\n",
      " [9 0 1 3 1]\n",
      " [2 8 4 6 0]\n",
      " [6 1 3 2 4]\n",
      " [6 1 0 2 5]]\n"
     ]
    }
   ],
   "source": [
    "import numpy as np # importo libreria NumPy\n",
    "\n",
    "b = np.random.randint(0, 10, (5,5)) # creo el array con numeros enteros aleatorios\n",
    "print(b)"
   ]
  },
  {
   "cell_type": "code",
   "execution_count": 18,
   "id": "657b0d31",
   "metadata": {},
   "outputs": [
    {
     "name": "stdout",
     "output_type": "stream",
     "text": [
      "9\n"
     ]
    }
   ],
   "source": [
    "print(b.max()) # valor maximo de la matriz"
   ]
  },
  {
   "cell_type": "code",
   "execution_count": 19,
   "id": "ff855101",
   "metadata": {},
   "outputs": [
    {
     "name": "stdout",
     "output_type": "stream",
     "text": [
      "[9 8 8 8 5]\n",
      "[8 9 8 6 6]\n"
     ]
    }
   ],
   "source": [
    "print(b.max(axis=0)) # valores maximos de cada eje\n",
    "print(b.max(axis=1))"
   ]
  },
  {
   "cell_type": "markdown",
   "id": "d162b445",
   "metadata": {},
   "source": [
    "# Ejercicio 4"
   ]
  },
  {
   "cell_type": "markdown",
   "id": "b5c35d2e",
   "metadata": {},
   "source": [
    "### *Mostrar con ejemplos de diferentes matrices, la regla fundamental de Broadcasting que dice: \"las matrices se pueden transmitir/brodcast si sus dimensiones coinciden o si una de las matrices tiene una medida de 1\"*"
   ]
  },
  {
   "cell_type": "markdown",
   "id": "4d6146d8",
   "metadata": {},
   "source": [
    "##### *Si las matrices son de la misma dimension y de la misma medida, o una de ellas tiene una medida de 1, pueden hacer broadcast*"
   ]
  },
  {
   "cell_type": "code",
   "execution_count": 1,
   "id": "4c56f764",
   "metadata": {},
   "outputs": [
    {
     "name": "stdout",
     "output_type": "stream",
     "text": [
      "[3 9 6 8 1]\n",
      "[5 2 0 5 6]\n",
      "[ 8 11  6 13  7]\n"
     ]
    }
   ],
   "source": [
    "import numpy as np \n",
    "\n",
    "a = np.random.randint(0, 10, 5) # 1 dimension\n",
    "b = np.random.randint(0, 10, 5)\n",
    "print(a)\n",
    "print(b)\n",
    "print(a+b)"
   ]
  },
  {
   "cell_type": "code",
   "execution_count": 3,
   "id": "c86f73e9",
   "metadata": {},
   "outputs": [
    {
     "name": "stdout",
     "output_type": "stream",
     "text": [
      "[1 3 5 4 7]\n",
      "[7]\n",
      "[ 8 10 12 11 14]\n"
     ]
    }
   ],
   "source": [
    "a = np.random.randint(0, 10, 5)\n",
    "b = np.random.randint(0, 10, 1) # 1 dimension medida de 1\n",
    "print(a)\n",
    "print(b)\n",
    "print(a+b)"
   ]
  },
  {
   "cell_type": "markdown",
   "id": "492b6d05",
   "metadata": {},
   "source": [
    "##### *Si son de diferentes dimensiones o una de las matrices es de otra medida que no sea 1, no podran hacer broadcast*"
   ]
  },
  {
   "cell_type": "code",
   "execution_count": null,
   "id": "d8aab619",
   "metadata": {},
   "outputs": [],
   "source": []
  }
 ],
 "metadata": {
  "kernelspec": {
   "display_name": "Python 3",
   "language": "python",
   "name": "python3"
  },
  "language_info": {
   "codemirror_mode": {
    "name": "ipython",
    "version": 3
   },
   "file_extension": ".py",
   "mimetype": "text/x-python",
   "name": "python",
   "nbconvert_exporter": "python",
   "pygments_lexer": "ipython3",
   "version": "3.8.8"
  }
 },
 "nbformat": 4,
 "nbformat_minor": 5
}
